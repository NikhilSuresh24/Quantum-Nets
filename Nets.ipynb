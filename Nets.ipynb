{
 "cells": [
  {
   "cell_type": "code",
   "execution_count": 205,
   "metadata": {},
   "outputs": [],
   "source": [
    "import numpy as np\n",
    "from qiskit import QuantumCircuit\n",
    "import random\n",
    "%matplotlib inline"
   ]
  },
  {
   "cell_type": "markdown",
   "metadata": {},
   "source": [
    "Summary\n",
    "1. Find the qubits who's state isn't used in the next state\n",
    "2. copy duplicate values onto those states\n",
    "3. Apply not gates where needed\n",
    "4. Swap around"
   ]
  },
  {
   "cell_type": "code",
   "execution_count": 644,
   "metadata": {},
   "outputs": [],
   "source": [
    "def genBoolFuncs(N=5):\n",
    "    '''K=1 Assumed'''\n",
    "    funcs = np.empty(N)\n",
    "    for i in range(N):\n",
    "        randVal = i\n",
    "        while abs(randVal) == i: # this function for preventing self loops is flawed\n",
    "            randVal = random.randrange(1, N+1)\n",
    "        funcs[i] = randVal if random.random() > 0.5 else -randVal\n",
    "    \n",
    "    return funcs"
   ]
  },
  {
   "cell_type": "code",
   "execution_count": 645,
   "metadata": {},
   "outputs": [],
   "source": [
    "funcs = genBoolFuncs()"
   ]
  },
  {
   "cell_type": "code",
   "execution_count": 646,
   "metadata": {},
   "outputs": [
    {
     "name": "stdout",
     "output_type": "stream",
     "text": [
      "[-4.  3. -1. -5.  1.]\n"
     ]
    }
   ],
   "source": [
    "print(funcs)"
   ]
  },
  {
   "cell_type": "markdown",
   "metadata": {},
   "source": [
    "Read Funcs:\n",
    "\n",
    "Turns function vector into a count of how many time each qubit value is used and which qubits aren't used"
   ]
  },
  {
   "cell_type": "code",
   "execution_count": 647,
   "metadata": {},
   "outputs": [],
   "source": [
    "def readFuncs(funcs, N=5):\n",
    "#     arr1 = np.concatenate([np.arange(-N, 0), np.arange(1, N+1)])\n",
    "    arr1 = np.arange(-N, N + 1)\n",
    "    arr2 = funcs\n",
    "    idx = np.searchsorted(ideal, funcs)\n",
    "    idx[idx==len(arr1)] = 0\n",
    "    mask = arr1[idx]==arr2\n",
    "    out = np.bincount(idx[mask])\n",
    "    full_counts = np.pad(out, (0, arr1.size - out.size), 'constant')\n",
    "    counts = np.array([full_counts[N - 1 - i] + full_counts[full_counts.size - 1 - (N - 1 - i)] for i in range(N)])\n",
    "    unused = np.where(counts==0)[0]\n",
    "    return full_counts, counts, unused"
   ]
  },
  {
   "cell_type": "code",
   "execution_count": 648,
   "metadata": {},
   "outputs": [
    {
     "name": "stdout",
     "output_type": "stream",
     "text": [
      "[1 1 0 0 1 0 1 0 1 0 0]\n",
      "[2 0 1 1 1]\n",
      "[1]\n"
     ]
    }
   ],
   "source": [
    "full_counts, counts, unused = readFuncs(funcs)\n",
    "print(full_counts)\n",
    "print(counts)\n",
    "print(unused)"
   ]
  },
  {
   "cell_type": "code",
   "execution_count": 649,
   "metadata": {},
   "outputs": [],
   "source": [
    "def initCircuit(N=5):\n",
    "    qc = QuantumCircuit(N)\n",
    "    for i in range(N):\n",
    "        init_state = [0,1] if random.random() > 0.5 else [1, 0]\n",
    "        qc.initialize(init_state, i)\n",
    "    return qc"
   ]
  },
  {
   "cell_type": "code",
   "execution_count": 650,
   "metadata": {},
   "outputs": [],
   "source": [
    "qc = initCircuit()"
   ]
  },
  {
   "cell_type": "code",
   "execution_count": 651,
   "metadata": {},
   "outputs": [
    {
     "data": {
      "text/html": [
       "<pre style=\"word-wrap: normal;white-space: pre;background: #fff0;line-height: 1.1;font-family: &quot;Courier New&quot;,Courier,monospace\">     ┌─────────────────┐\n",
       "q_0: ┤ initialize(0,1) ├\n",
       "     ├─────────────────┤\n",
       "q_1: ┤ initialize(1,0) ├\n",
       "     ├─────────────────┤\n",
       "q_2: ┤ initialize(1,0) ├\n",
       "     ├─────────────────┤\n",
       "q_3: ┤ initialize(0,1) ├\n",
       "     ├─────────────────┤\n",
       "q_4: ┤ initialize(1,0) ├\n",
       "     └─────────────────┘</pre>"
      ],
      "text/plain": [
       "     ┌─────────────────┐\n",
       "q_0: ┤ initialize(0,1) ├\n",
       "     ├─────────────────┤\n",
       "q_1: ┤ initialize(1,0) ├\n",
       "     ├─────────────────┤\n",
       "q_2: ┤ initialize(1,0) ├\n",
       "     ├─────────────────┤\n",
       "q_3: ┤ initialize(0,1) ├\n",
       "     ├─────────────────┤\n",
       "q_4: ┤ initialize(1,0) ├\n",
       "     └─────────────────┘"
      ]
     },
     "execution_count": 651,
     "metadata": {},
     "output_type": "execute_result"
    }
   ],
   "source": [
    "qc.draw()"
   ]
  },
  {
   "cell_type": "code",
   "execution_count": 636,
   "metadata": {},
   "outputs": [],
   "source": [
    "def copy_to_qubit(qc, control, unused):\n",
    "    print(\"UNUSED: \")\n",
    "    print(unused)\n",
    "    unused_qubit = unused[0]\n",
    "    print(\"q idx: \" + str(unused_qubit))\n",
    "    qc.reset(unused_qubit) # -1 because unused array is not 0 indexed\n",
    "    qc.cx(control, unused_qubit)\n",
    "    unused = np.delete(unused, 0)\n",
    "    print(unused)\n",
    "    return unused_qubit, unused"
   ]
  },
  {
   "cell_type": "markdown",
   "metadata": {},
   "source": [
    "Copying Description:\n",
    "\n",
    "Let's say we want to get: [-2, -1, -1, 2, -3]\n",
    "Right now we have: [1, 2, 3, 4 , 5]\n",
    "\n",
    "What the copying step does is that it searches for all unused qubits (in this case [4,5]), then copies the value of the duplicate qubits (in this case [1, 2, 3]) to those unused qubits depending on how many times we need it (we need 2 copies of 1, 2 copies of 2, 1 of 3)\n",
    "\n",
    "If a qubit needs more than 1 copy, we set an unused qubit to 0, then CNOT with a duplicate qubit to set the value. we can apply a NOT gate after if we need a negative number (which symbolizes a NOT)\n",
    "\n",
    "As a result, we can get from [1, 2, 3, 4 , 5] to [-1, 2, 3, -2, -1], which the next step will then sort"
   ]
  },
  {
   "cell_type": "code",
   "execution_count": 652,
   "metadata": {},
   "outputs": [],
   "source": [
    "def genCopyingCircuit(qc, full_counts, counts, unused, N=5):\n",
    "    current_values = np. arange(1, N + 1)\n",
    "    for idx, val in enumerate(counts):\n",
    "        if val > 1:\n",
    "            num_negatives = full_counts[counts.size - 1 - idx]\n",
    "            if val == num_negatives: # if all occurences of an input are used with NOT\n",
    "                qc.x(idx)\n",
    "                current_values[idx] *= -1\n",
    "                for i in range(val - 1):\n",
    "                    unused_qubit = unused[0]\n",
    "                    qc.reset(unused_qubit) \n",
    "                    qc.cx(idx, unused_qubit)\n",
    "                    current_values[unused_qubit] = current_values[idx]\n",
    "                    unused = np.delete(unused, 0)\n",
    "#                     copy_to_qubit(qc, idx, unused)\n",
    "            elif val > num_negatives: # if there are some end values that are not under the NOT gate\n",
    "                for i in range(val - 1):\n",
    "                    unused_qubit = unused[0]\n",
    "                    qc.reset(unused_qubit) \n",
    "                    qc.cx(idx, unused_qubit)\n",
    "                    current_values[unused_qubit] = current_values[idx]\n",
    "                    unused = np.delete(unused, 0)\n",
    "                    if num_negatives > 0:\n",
    "                        qc.x(unused_qubit)\n",
    "                        current_values[unused_qubit] *= -1\n",
    "                        num_negatives -= 1\n",
    "            else: # the number of negatives should never be more than the actual \n",
    "                raise ValueError()\n",
    "                \n",
    "        elif val == 1:\n",
    "            num_negatives = full_counts[counts.size - 1 - idx]\n",
    "            if num_negatives == val:\n",
    "                qc.x(idx)\n",
    "                current_values[idx] *= -1\n",
    "                \n",
    "    return current_values, qc\n",
    "            \n",
    "            \n",
    "                \n",
    "    "
   ]
  },
  {
   "cell_type": "code",
   "execution_count": 653,
   "metadata": {},
   "outputs": [
    {
     "name": "stdout",
     "output_type": "stream",
     "text": [
      "[ 1 -1  3 -4 -5]\n"
     ]
    },
    {
     "data": {
      "text/html": [
       "<pre style=\"word-wrap: normal;white-space: pre;background: #fff0;line-height: 1.1;font-family: &quot;Courier New&quot;,Courier,monospace\">     ┌─────────────────┐               \n",
       "q_0: ┤ initialize(0,1) ├───────■───────\n",
       "     ├─────────────────┤     ┌─┴─┐┌───┐\n",
       "q_1: ┤ initialize(1,0) ├─|0>─┤ X ├┤ X ├\n",
       "     ├─────────────────┤     └───┘└───┘\n",
       "q_2: ┤ initialize(1,0) ├───────────────\n",
       "     ├─────────────────┤┌───┐          \n",
       "q_3: ┤ initialize(0,1) ├┤ X ├──────────\n",
       "     ├─────────────────┤├───┤          \n",
       "q_4: ┤ initialize(1,0) ├┤ X ├──────────\n",
       "     └─────────────────┘└───┘          </pre>"
      ],
      "text/plain": [
       "     ┌─────────────────┐               \n",
       "q_0: ┤ initialize(0,1) ├───────■───────\n",
       "     ├─────────────────┤     ┌─┴─┐┌───┐\n",
       "q_1: ┤ initialize(1,0) ├─|0>─┤ X ├┤ X ├\n",
       "     ├─────────────────┤     └───┘└───┘\n",
       "q_2: ┤ initialize(1,0) ├───────────────\n",
       "     ├─────────────────┤┌───┐          \n",
       "q_3: ┤ initialize(0,1) ├┤ X ├──────────\n",
       "     ├─────────────────┤├───┤          \n",
       "q_4: ┤ initialize(1,0) ├┤ X ├──────────\n",
       "     └─────────────────┘└───┘          "
      ]
     },
     "execution_count": 653,
     "metadata": {},
     "output_type": "execute_result"
    }
   ],
   "source": [
    "current_vals, qc = genCopyingCircuit(qc, full_counts, counts, unused)\n",
    "print(current_vals)\n",
    "qc.draw()"
   ]
  },
  {
   "cell_type": "markdown",
   "metadata": {},
   "source": [
    "Swap Description:\n",
    "\n",
    "Now we need to reorder our qubit states. \n",
    "\n",
    "To do so, we find all incorrect state locations, find where they should be, then execute swaps to get the right value to one place. Then we repeat until there are no more incorrect state locations"
   ]
  },
  {
   "cell_type": "code",
   "execution_count": 654,
   "metadata": {},
   "outputs": [],
   "source": [
    "def genSwapCircuit(qc, current_vals, funcs, N=5):\n",
    "    incorrect_positions = np.where(funcs != current_vals)[0]\n",
    "    print(\"Current Position: \" + np.array2string(current_vals))\n",
    "    print(\"Intended Position: \" + np.array2string(funcs))\n",
    "    while (not np.array_equal(incorrect_positions, np.zeros(0))):\n",
    "        incorrect_pos = incorrect_positions[0]\n",
    "        possible_moves = np.where(current_vals == funcs[incorrect_pos])[0] # finds where the correct value for the first slot with an incorrect value is\n",
    "        for i in possible_moves:\n",
    "            if (np.isin(incorrect_positions, i).any()):#if the move is also in wrong place then make the swap\n",
    "                qc.swap(incorrect_pos, i)\n",
    "                current_vals[incorrect_pos], current_vals[i] = current_vals[i], current_vals[incorrect_pos]\n",
    "                incorrect_positions = np.where(funcs != current_vals)[0] # post swap, check for remaining incorrects\n",
    "    \n",
    "    print(\"Current Position: \" + np.array2string(current_vals))\n",
    "    print(\"Intended Position: \" + np.array2string(funcs))\n",
    "#     print(np.where(current_vals == funcs[incorrect_positions[0]])[0])\n",
    "#     print(incorrect_positions[0])\n",
    "#     print(funcs)\n",
    "#     print(current_vals)\n",
    "#     print(incorrect_positions)"
   ]
  },
  {
   "cell_type": "code",
   "execution_count": 655,
   "metadata": {},
   "outputs": [
    {
     "name": "stdout",
     "output_type": "stream",
     "text": [
      "Current Position: [ 1 -1  3 -4 -5]\n",
      "Intended Position: [-4.  3. -1. -5.  1.]\n",
      "Current Position: [-4  3 -1 -5  1]\n",
      "Intended Position: [-4.  3. -1. -5.  1.]\n"
     ]
    },
    {
     "data": {
      "text/html": [
       "<pre style=\"word-wrap: normal;white-space: pre;background: #fff0;line-height: 1.1;font-family: &quot;Courier New&quot;,Courier,monospace\">     ┌─────────────────┐                     \n",
       "q_0: ┤ initialize(0,1) ├───────■────────X────\n",
       "     ├─────────────────┤     ┌─┴─┐┌───┐ │    \n",
       "q_1: ┤ initialize(1,0) ├─|0>─┤ X ├┤ X ├─┼──X─\n",
       "     ├─────────────────┤     └───┘└───┘ │  │ \n",
       "q_2: ┤ initialize(1,0) ├────────────────┼──X─\n",
       "     ├─────────────────┤┌───┐           │    \n",
       "q_3: ┤ initialize(0,1) ├┤ X ├───────────X──X─\n",
       "     ├─────────────────┤├───┤              │ \n",
       "q_4: ┤ initialize(1,0) ├┤ X ├──────────────X─\n",
       "     └─────────────────┘└───┘                </pre>"
      ],
      "text/plain": [
       "     ┌─────────────────┐                     \n",
       "q_0: ┤ initialize(0,1) ├───────■────────X────\n",
       "     ├─────────────────┤     ┌─┴─┐┌───┐ │    \n",
       "q_1: ┤ initialize(1,0) ├─|0>─┤ X ├┤ X ├─┼──X─\n",
       "     ├─────────────────┤     └───┘└───┘ │  │ \n",
       "q_2: ┤ initialize(1,0) ├────────────────┼──X─\n",
       "     ├─────────────────┤┌───┐           │    \n",
       "q_3: ┤ initialize(0,1) ├┤ X ├───────────X──X─\n",
       "     ├─────────────────┤├───┤              │ \n",
       "q_4: ┤ initialize(1,0) ├┤ X ├──────────────X─\n",
       "     └─────────────────┘└───┘                "
      ]
     },
     "execution_count": 655,
     "metadata": {},
     "output_type": "execute_result"
    }
   ],
   "source": [
    "genSwapCircuit(qc, current_vals, funcs)\n",
    "qc.draw()"
   ]
  },
  {
   "cell_type": "code",
   "execution_count": null,
   "metadata": {},
   "outputs": [],
   "source": []
  },
  {
   "cell_type": "code",
   "execution_count": null,
   "metadata": {},
   "outputs": [],
   "source": []
  },
  {
   "cell_type": "code",
   "execution_count": null,
   "metadata": {},
   "outputs": [],
   "source": []
  }
 ],
 "metadata": {
  "kernelspec": {
   "display_name": "Python 3",
   "language": "python",
   "name": "python3"
  },
  "language_info": {
   "codemirror_mode": {
    "name": "ipython",
    "version": 3
   },
   "file_extension": ".py",
   "mimetype": "text/x-python",
   "name": "python",
   "nbconvert_exporter": "python",
   "pygments_lexer": "ipython3",
   "version": "3.7.4"
  }
 },
 "nbformat": 4,
 "nbformat_minor": 4
}
